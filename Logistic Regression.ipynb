{
 "cells": [
  {
   "cell_type": "code",
   "execution_count": 64,
   "id": "79479c67",
   "metadata": {},
   "outputs": [],
   "source": [
    "# libraries\n",
    "import numpy as np\n",
    "import pandas as pd\n",
    "import matplotlib.pyplot as plt\n",
    "from sklearn.model_selection import train_test_split\n",
    "import warnings \n",
    "\n",
    "# file/data preprocessing\n",
    "def data_process(csv_name):\n",
    "    '''\n",
    "    File preprocessing of the pandas dataframe of a csv file\n",
    "    \n",
    "    Parameters: \n",
    "    csv_name: file path to a csv file\n",
    "    \n",
    "    Note that we assume the file corresponding to file path 'csv_name' has same format \n",
    "    as the csv in https://www.kaggle.com/datasets/uciml/breast-cancer-wisconsin-data\n",
    "    \n",
    "    Returns:\n",
    "    tumor_id: vector of the id numbers\n",
    "    y: malignant or benign for tumors (1 for malignant, 0 for benign)\n",
    "    x: array of 9 dimensional vector for all tumors\n",
    "    '''\n",
    "    # read file\n",
    "    df = pd.read_csv(csv_name)\n",
    "    \n",
    "    # splitting id, diagnosis, and features into 3 different np arrays\n",
    "    \n",
    "    tumor_id = df['id']\n",
    "    \n",
    "    y = df['diagnosis']\n",
    "    y = np.array(y)\n",
    "    y = np.where(y == 'M', 1, 0)\n",
    "    \n",
    "    # 9 means chosen, disregarding compactness\n",
    "    \n",
    "    x = df[['radius_mean', 'texture_mean', 'perimeter_mean', \n",
    "       'area_mean', 'smoothness_mean', 'concavity_mean', \n",
    "       'concave points_mean', 'symmetry_mean', 'fractal_dimension_mean']]\n",
    "    x = np.array(x)\n",
    "    \n",
    "    return tumor_id, y, x\n",
    "    \n",
    "class LogisticRegression:\n",
    "    def __init__(self, learning_rate=0.01, num_iterations=1000):\n",
    "        self.learning_rate = learning_rate\n",
    "        self.num_iterations = num_iterations\n",
    "        self.weights = None\n",
    "        self.bias = None\n",
    "        \n",
    "    def sigmoid(self, z):\n",
    "        \"\"\"\n",
    "        Compute the sigmoid function\n",
    "        \"\"\"\n",
    "        return 1 / (1 + np.exp(-z))\n",
    "    \n",
    "    def predict(self, X):\n",
    "        \"\"\"\n",
    "        Make predictions using the trained model\n",
    "        \n",
    "        Parameters:\n",
    "        X: numpy array of shape (n_samples, n_features)\n",
    "        \n",
    "        Returns:\n",
    "        predictions: numpy array of shape (n_samples,)\n",
    "        \"\"\"\n",
    "        # z = wx + b\n",
    "        linear_model = np.dot(X, self.weights) + self.bias\n",
    "        \n",
    "        # sigmoid(z)\n",
    "        y_predicted = self.sigmoid(linear_model)\n",
    "        return (y_predicted >= 0.5).astype(int)\n",
    "    \n",
    "    def predict_proba(self, X):\n",
    "        \"\"\"\n",
    "        Predict probability estimates\n",
    "        \n",
    "        Parameters:\n",
    "        X: numpy array of shape (n_samples, n_features)\n",
    "        \n",
    "        Returns:\n",
    "        probabilities: numpy array of shape (n_samples,)\n",
    "        \"\"\"\n",
    "        \n",
    "        # predictions of sigmoid function\n",
    "        # if >= 0.5, 1, else benign\n",
    "        linear_model = np.dot(X, self.weights) + self.bias\n",
    "        return self.sigmoid(linear_model)\n",
    "    \n",
    "    def binary_cross_entropy(self, y_true, y_pred):\n",
    "        \"\"\"\n",
    "        Compute the binary cross-entropy loss.\n",
    "    \n",
    "        Parameters:\n",
    "        y_true: numpy array of shape (n_samples,) - True labels\n",
    "        y_pred: numpy array of shape (n_samples,) - Predicted probabilities\n",
    "    \n",
    "        Returns:\n",
    "        loss: float - Binary cross-entropy loss\n",
    "        \"\"\"\n",
    "        \n",
    "        # bce loss = ylog(y_pred) + (1-y)log(1-y_pred)\n",
    "        y_pred = np.clip(y_pred, 1e-15, 1 - 1e-15)  # Avoid log(0)\n",
    "        loss = -np.mean(y_true * np.log(y_pred) + (1 - y_true) * np.log(1 - y_pred))\n",
    "        return loss\n",
    "    \n",
    "    def fit(self, X, y, E):\n",
    "        \"\"\"\n",
    "        Train the logistic regression model\n",
    "        \n",
    "        Parameters:\n",
    "        X: numpy array of shape (n_samples, n_features)\n",
    "        y: numpy array of shape (n_samples,)\n",
    "        E: error allowed to consider for convergence to 0\n",
    "        \"\"\"\n",
    "        \n",
    "        # get rows and cols of input array\n",
    "        n_samples, n_features = X.shape\n",
    "        \n",
    "        # ensure weights and bias are set to 0\n",
    "        self.weights = np.zeros(n_features)\n",
    "        self.bias = 0\n",
    "        \n",
    "        \n",
    "        # arrays to be used as x and y for loss graph\n",
    "        L_vals = [];\n",
    "        epochs = [];\n",
    "        \n",
    "        # track at which epoch the the error convergers to 0\n",
    "        count = 0;\n",
    "        \n",
    "        # for n epochs\n",
    "        for _ in range(self.num_iterations):\n",
    "            \n",
    "            # sigmoid and z\n",
    "            linear_model = np.dot(X, self.weights) + self.bias\n",
    "            y_predicted = self.sigmoid(linear_model)\n",
    "            \n",
    "            \n",
    "            # gradient descent\n",
    "            dw = (1 / n_samples) * np.dot(X.T, (y_predicted - y))\n",
    "            db = (1 / n_samples) * np.sum(y_predicted - y)\n",
    "            \n",
    "            self.weights -= self.learning_rate * dw\n",
    "            self.bias -= self.learning_rate * db\n",
    "            \n",
    "            count = count + 1;\n",
    "            \n",
    "            loss = self.binary_cross_entropy(y,y_predicted)\n",
    "            \n",
    "            \n",
    "            L_vals.append(loss)\n",
    "            epochs.append(count)\n",
    "            if loss<E:\n",
    "                print (\"epochs to convergence: \")\n",
    "                print(count)\n",
    "                break\n",
    "            \n",
    "            \n",
    "        plt.scatter(np.array(epochs), np.array(L_vals))\n",
    "        plt.title('Loss Curve')\n",
    "        plt.xlabel('number of epochs')\n",
    "        plt.ylabel('binary cross entropy loss')\n",
    "        plt.show()\n",
    "        return L_vals[-1]"
   ]
  },
  {
   "cell_type": "code",
   "execution_count": 28,
   "id": "9b118dd4",
   "metadata": {},
   "outputs": [],
   "source": [
    "tumor_id, y, x = data_process('data.csv')\n",
    "x = np.array(x)\n",
    "y = np.array(y)\n"
   ]
  },
  {
   "cell_type": "code",
   "execution_count": 29,
   "id": "031cce92",
   "metadata": {},
   "outputs": [
    {
     "data": {
      "text/plain": [
       "array([[1.799e+01, 1.038e+01, 1.228e+02, ..., 1.471e-01, 2.419e-01,\n",
       "        7.871e-02],\n",
       "       [2.057e+01, 1.777e+01, 1.329e+02, ..., 7.017e-02, 1.812e-01,\n",
       "        5.667e-02],\n",
       "       [1.969e+01, 2.125e+01, 1.300e+02, ..., 1.279e-01, 2.069e-01,\n",
       "        5.999e-02],\n",
       "       ...,\n",
       "       [1.660e+01, 2.808e+01, 1.083e+02, ..., 5.302e-02, 1.590e-01,\n",
       "        5.648e-02],\n",
       "       [2.060e+01, 2.933e+01, 1.401e+02, ..., 1.520e-01, 2.397e-01,\n",
       "        7.016e-02],\n",
       "       [7.760e+00, 2.454e+01, 4.792e+01, ..., 0.000e+00, 1.587e-01,\n",
       "        5.884e-02]])"
      ]
     },
     "execution_count": 29,
     "metadata": {},
     "output_type": "execute_result"
    }
   ],
   "source": [
    "x"
   ]
  },
  {
   "cell_type": "code",
   "execution_count": 30,
   "id": "4a8ad7c5",
   "metadata": {},
   "outputs": [
    {
     "data": {
      "text/plain": [
       "array([1, 1, 1, 1, 1, 1, 1, 1, 1, 1, 1, 1, 1, 1, 1, 1, 1, 1, 1, 0, 0, 0,\n",
       "       1, 1, 1, 1, 1, 1, 1, 1, 1, 1, 1, 1, 1, 1, 1, 0, 1, 1, 1, 1, 1, 1,\n",
       "       1, 1, 0, 1, 0, 0, 0, 0, 0, 1, 1, 0, 1, 1, 0, 0, 0, 0, 1, 0, 1, 1,\n",
       "       0, 0, 0, 0, 1, 0, 1, 1, 0, 1, 0, 1, 1, 0, 0, 0, 1, 1, 0, 1, 1, 1,\n",
       "       0, 0, 0, 1, 0, 0, 1, 1, 0, 0, 0, 1, 1, 0, 0, 0, 0, 1, 0, 0, 1, 0,\n",
       "       0, 0, 0, 0, 0, 0, 0, 1, 1, 1, 0, 1, 1, 0, 0, 0, 1, 1, 0, 1, 0, 1,\n",
       "       1, 0, 1, 1, 0, 0, 1, 0, 0, 1, 0, 0, 0, 0, 1, 0, 0, 0, 0, 0, 0, 0,\n",
       "       0, 0, 1, 0, 0, 0, 0, 1, 1, 0, 1, 0, 0, 1, 1, 0, 0, 1, 1, 0, 0, 0,\n",
       "       0, 1, 0, 0, 1, 1, 1, 0, 1, 0, 1, 0, 0, 0, 1, 0, 0, 1, 1, 0, 1, 1,\n",
       "       1, 1, 0, 1, 1, 1, 0, 1, 0, 1, 0, 0, 1, 0, 1, 1, 1, 1, 0, 0, 1, 1,\n",
       "       0, 0, 0, 1, 0, 0, 0, 0, 0, 1, 1, 0, 0, 1, 0, 0, 1, 1, 0, 1, 0, 0,\n",
       "       0, 0, 1, 0, 0, 0, 0, 0, 1, 0, 1, 1, 1, 1, 1, 1, 1, 1, 1, 1, 1, 1,\n",
       "       1, 1, 0, 0, 0, 0, 0, 0, 1, 0, 1, 0, 0, 1, 0, 0, 1, 0, 1, 1, 0, 0,\n",
       "       0, 0, 0, 0, 0, 0, 0, 0, 0, 0, 0, 1, 0, 0, 1, 0, 1, 0, 0, 0, 0, 0,\n",
       "       0, 0, 0, 0, 0, 0, 0, 0, 0, 1, 0, 0, 0, 1, 0, 1, 0, 0, 0, 0, 1, 1,\n",
       "       1, 0, 0, 0, 0, 1, 0, 1, 0, 1, 0, 0, 0, 1, 0, 0, 0, 0, 0, 0, 0, 1,\n",
       "       1, 1, 0, 0, 0, 0, 0, 0, 0, 0, 0, 0, 0, 1, 1, 0, 1, 1, 1, 0, 1, 1,\n",
       "       0, 0, 0, 0, 0, 1, 0, 0, 0, 0, 0, 1, 0, 0, 0, 1, 0, 0, 1, 1, 0, 0,\n",
       "       0, 0, 0, 0, 1, 0, 0, 0, 0, 0, 0, 0, 1, 0, 0, 0, 0, 0, 1, 0, 0, 1,\n",
       "       0, 0, 0, 0, 0, 0, 0, 0, 0, 0, 0, 0, 1, 0, 1, 1, 0, 1, 0, 0, 0, 0,\n",
       "       0, 1, 0, 0, 1, 0, 1, 0, 0, 1, 0, 1, 0, 0, 0, 0, 0, 0, 0, 0, 1, 1,\n",
       "       0, 0, 0, 0, 0, 0, 1, 0, 0, 0, 0, 0, 0, 0, 0, 0, 0, 1, 0, 0, 0, 0,\n",
       "       0, 0, 0, 1, 0, 1, 0, 0, 1, 0, 0, 0, 0, 0, 1, 1, 0, 1, 0, 1, 0, 0,\n",
       "       0, 0, 0, 1, 0, 0, 1, 0, 1, 0, 1, 1, 0, 0, 0, 1, 0, 0, 0, 0, 0, 0,\n",
       "       0, 0, 0, 0, 0, 1, 0, 1, 1, 0, 0, 0, 0, 0, 0, 0, 0, 0, 0, 0, 0, 0,\n",
       "       0, 0, 0, 0, 0, 0, 0, 0, 0, 0, 0, 0, 1, 1, 1, 1, 1, 1, 0])"
      ]
     },
     "execution_count": 30,
     "metadata": {},
     "output_type": "execute_result"
    }
   ],
   "source": [
    "y"
   ]
  },
  {
   "cell_type": "code",
   "execution_count": 65,
   "id": "f4105e26",
   "metadata": {},
   "outputs": [
    {
     "data": {
      "image/png": "[encoded data removed]",
      "text/plain": [
       "<Figure size 432x288 with 1 Axes>"
      ]
     },
     "metadata": {
      "needs_background": "light"
     },
     "output_type": "display_data"
    },
    {
     "name": "stdout",
     "output_type": "stream",
     "text": [
      "0.3049512858907487\n",
      "[-4.41419603e-02  5.06032050e-02 -1.71462675e-01  2.37275683e-02\n",
      "  2.95863882e-04  4.29663313e-03  1.84619394e-03  3.53232026e-04\n",
      " -2.96924450e-05] -0.006366278507891543\n"
     ]
    }
   ],
   "source": [
    "from sklearn.model_selection import train_test_split\n",
    "X_train, X_test, y_train, y_test = train_test_split(x, y, test_size=0.2, random_state=42)\n",
    "\n",
    "model = LogisticRegression(learning_rate=0.000005, num_iterations=100000)\n",
    "loss = model.fit(x, y, 0.1)\n",
    "print (loss)\n",
    "print(model.weights, model.bias)"
   ]
  },
  {
   "cell_type": "code",
   "execution_count": 63,
   "id": "2376a179",
   "metadata": {},
   "outputs": [
    {
     "data": {
      "text/plain": [
       "array([-4.41419603e-02,  5.06032050e-02, -1.71462675e-01,  2.37275683e-02,\n",
       "        2.95863882e-04,  4.29663313e-03,  1.84619394e-03,  3.53232026e-04,\n",
       "       -2.96924450e-05])"
      ]
     },
     "execution_count": 63,
     "metadata": {},
     "output_type": "execute_result"
    }
   ],
   "source": [
    "model.weights"
   ]
  },
  {
   "cell_type": "code",
   "execution_count": 59,
   "id": "77820d55",
   "metadata": {},
   "outputs": [
    {
     "data": {
      "image/png": "[encoded data removed]",
      "text/plain": [
       "<Figure size 432x288 with 1 Axes>"
      ]
     },
     "metadata": {
      "needs_background": "light"
     },
     "output_type": "display_data"
    }
   ],
   "source": [
    "def sigmoid(x):\n",
    "    return 1 / (1 + np.exp(-x))\n",
    "\n",
    "x_axis = np.linspace(-15, 20, 100)\n",
    "y_axis = sigmoid(x_axis)\n",
    "\n",
    "data = read_data('data.csv')\n",
    "\n",
    "x_in = X_test\n",
    "lin = np.dot(x_in, model.weights) + model.bias\n",
    "y_predicted = model.sigmoid(lin)\n",
    "\n",
    "count = 1\n",
    "for val in y_predicted:\n",
    "    if (y_test[count-1] > 0.5):\n",
    "        plt.scatter(lin[count-1], val, color='red')\n",
    "    else:\n",
    "        plt.scatter(lin[count-1], val, color='blue')\n",
    "    count = count + 1;\n",
    "    \n",
    "plt.plot(x_axis, y_axis)\n",
    "plt.xlabel('z')\n",
    "plt.ylabel('sigmoid(z)')\n",
    "plt.title('Sigmoid Curve')\n",
    "plt.axhline(y = 0.5, color = 'black', linestyle = '-') \n",
    "\n",
    "\n",
    "\n",
    "plt.show()"
   ]
  },
  {
   "cell_type": "code",
   "execution_count": 60,
   "id": "b86e8079",
   "metadata": {},
   "outputs": [
    {
     "name": "stdout",
     "output_type": "stream",
     "text": [
      "Accuracy: 0.91\n"
     ]
    }
   ],
   "source": [
    "predictions = model.predict(X_test)\n",
    "probabilities = model.predict_proba(X_test)\n",
    "\n",
    "# Calculate accuracy\n",
    "accuracy = np.mean(predictions == y_test)\n",
    "print(f\"Accuracy: {accuracy:.2f}\")"
   ]
  },
  {
   "cell_type": "code",
   "execution_count": 35,
   "id": "797e7e63",
   "metadata": {},
   "outputs": [
    {
     "name": "stdout",
     "output_type": "stream",
     "text": [
      "[0 1 1 0 0 1 1 1 0 0 0 1 1 1 0 1 1 0 0 1 0 0 1 0 0 0 0 0 0 1 0 0 0 0 0 0 1\n",
      " 0 1 0 0 1 0 0 0 0 0 0 0 0 1 1 0 0 0 0 0 1 0 0 0 1 1 0 0 0 1 1 0 0 0 1 0 1\n",
      " 0 0 0 0 0 0 1 0 0 1 1 0 0 1 0 0 0 0 0 0 0 0 1 0 0 1 1 0 1 1 0 0 0 1 0 0 1\n",
      " 0 0 1]\n",
      "Confusion Matrix:\n",
      "[[69  2]\n",
      " [ 8 35]]\n"
     ]
    },
    {
     "data": {
      "text/plain": [
       "<sklearn.metrics._plot.confusion_matrix.ConfusionMatrixDisplay at 0x7f023f02e0a0>"
      ]
     },
     "execution_count": 35,
     "metadata": {},
     "output_type": "execute_result"
    },
    {
     "data": {
      "image/png": "[encoded data removed]",
      "text/plain": [
       "<Figure size 432x288 with 2 Axes>"
      ]
     },
     "metadata": {
      "needs_background": "light"
     },
     "output_type": "display_data"
    }
   ],
   "source": [
    "from sklearn.metrics import confusion_matrix, ConfusionMatrixDisplay\n",
    "import numpy as np\n",
    "\n",
    "# Predicted labels\n",
    "linear_model = np.dot(X_test, model.weights) + model.bias\n",
    "y_pred = sigmoid(linear_model)\n",
    "y_pred = np.array(y_pred)\n",
    "y_pred = np.where(y_pred >= 0.5, 1, 0)\n",
    "y_test = np.array(y_test)\n",
    "print (y_pred)\n",
    "\n",
    "\n",
    "# Generate the confusion matrix\n",
    "cm = confusion_matrix(y_test, y_pred)\n",
    "\n",
    "# Print the confusion matrix\n",
    "print(\"Confusion Matrix:\")\n",
    "print(cm)\n",
    "\n",
    "# Optionally, display the confusion matrix with labels\n",
    "disp = ConfusionMatrixDisplay(confusion_matrix=cm, display_labels=[\"Malignant\", \"Benign\"])\n",
    "disp.plot(cmap=\"Blues\")"
   ]
  },
  {
   "cell_type": "code",
   "execution_count": null,
   "id": "e44c5bb1",
   "metadata": {},
   "outputs": [],
   "source": []
  }
 ],
 "metadata": {
  "kernelspec": {
   "display_name": "Python 3 (ipykernel)",
   "language": "python",
   "name": "python3"
  },
  "language_info": {
   "codemirror_mode": {
    "name": "ipython",
    "version": 3
   },
   "file_extension": ".py",
   "mimetype": "text/x-python",
   "name": "python",
   "nbconvert_exporter": "python",
   "pygments_lexer": "ipython3",
   "version": "3.9.5"
  }
 },
 "nbformat": 4,
 "nbformat_minor": 5
}
